{
 "metadata": {
  "language_info": {
   "codemirror_mode": {
    "name": "ipython",
    "version": 3
   },
   "file_extension": ".py",
   "mimetype": "text/x-python",
   "name": "python",
   "nbconvert_exporter": "python",
   "pygments_lexer": "ipython3",
   "version": "3.7.9"
  },
  "orig_nbformat": 2,
  "kernelspec": {
   "name": "python3",
   "display_name": "Python 3.7.9 64-bit"
  },
  "interpreter": {
   "hash": "5cd6e08819e5b50081dfb8d55387c278a7215dab6b5bbcbd54fa57386af92bd4"
  }
 },
 "nbformat": 4,
 "nbformat_minor": 2,
 "cells": [
  {
   "cell_type": "code",
   "execution_count": 2,
   "source": [
    "# Libraries import\r\n",
    "import pandas as pd\r\n",
    "import seaborn as sns"
   ],
   "outputs": [],
   "metadata": {}
  },
  {
   "cell_type": "code",
   "execution_count": 3,
   "source": [
    "# Importing files\r\n",
    "df = pd.read_csv('rssprints_train.csv')\r\n",
    "dfy = pd.read_csv('coordinates_train.csv')\r\n",
    "\r\n",
    "df_test = pd.read_csv('rssprints_test.csv')\r\n",
    "dfy_test = pd.read_csv('coordinates_test.csv')"
   ],
   "outputs": [],
   "metadata": {}
  },
  {
   "cell_type": "code",
   "execution_count": 4,
   "source": [
    "# Checking data\r\n",
    "df.head()"
   ],
   "outputs": [
    {
     "output_type": "execute_result",
     "data": {
      "text/plain": [
       "   -90  -62  -69  -87  -85  -87.1  -68  -86  -63  -85.1  ...  100.598  \\\n",
       "0  -93  -65  -67  -85  -88    -87  -67  -86  -66    -88  ...      100   \n",
       "1  -88  -64  -68  -88  -86    -90  -68  -88  -66    -86  ...      100   \n",
       "2  -90  -63  -66  -87  -88    -91  -67  -86  -64    -85  ...      100   \n",
       "3  100  -64  -68  -88  100    -88  -66  -88  -63    -86  ...      100   \n",
       "4  100  -65  -67  -85  -87    -89  -66  -89  -65    -87  ...      100   \n",
       "\n",
       "   100.599  100.600  100.601  100.602  100.603  100.604  100.605  100.606  \\\n",
       "0      100      100      100      100      100      100      100      100   \n",
       "1      100      100      100      100      100      100      100      100   \n",
       "2      100      100      100      100      100      100      100      100   \n",
       "3      100      100      100      100      100      100      100      100   \n",
       "4      100      100      100      100      100      100      100      100   \n",
       "\n",
       "   100.607  \n",
       "0      100  \n",
       "1      100  \n",
       "2      100  \n",
       "3      100  \n",
       "4      100  \n",
       "\n",
       "[5 rows x 620 columns]"
      ],
      "text/html": [
       "<div>\n",
       "<style scoped>\n",
       "    .dataframe tbody tr th:only-of-type {\n",
       "        vertical-align: middle;\n",
       "    }\n",
       "\n",
       "    .dataframe tbody tr th {\n",
       "        vertical-align: top;\n",
       "    }\n",
       "\n",
       "    .dataframe thead th {\n",
       "        text-align: right;\n",
       "    }\n",
       "</style>\n",
       "<table border=\"1\" class=\"dataframe\">\n",
       "  <thead>\n",
       "    <tr style=\"text-align: right;\">\n",
       "      <th></th>\n",
       "      <th>-90</th>\n",
       "      <th>-62</th>\n",
       "      <th>-69</th>\n",
       "      <th>-87</th>\n",
       "      <th>-85</th>\n",
       "      <th>-87.1</th>\n",
       "      <th>-68</th>\n",
       "      <th>-86</th>\n",
       "      <th>-63</th>\n",
       "      <th>-85.1</th>\n",
       "      <th>...</th>\n",
       "      <th>100.598</th>\n",
       "      <th>100.599</th>\n",
       "      <th>100.600</th>\n",
       "      <th>100.601</th>\n",
       "      <th>100.602</th>\n",
       "      <th>100.603</th>\n",
       "      <th>100.604</th>\n",
       "      <th>100.605</th>\n",
       "      <th>100.606</th>\n",
       "      <th>100.607</th>\n",
       "    </tr>\n",
       "  </thead>\n",
       "  <tbody>\n",
       "    <tr>\n",
       "      <th>0</th>\n",
       "      <td>-93</td>\n",
       "      <td>-65</td>\n",
       "      <td>-67</td>\n",
       "      <td>-85</td>\n",
       "      <td>-88</td>\n",
       "      <td>-87</td>\n",
       "      <td>-67</td>\n",
       "      <td>-86</td>\n",
       "      <td>-66</td>\n",
       "      <td>-88</td>\n",
       "      <td>...</td>\n",
       "      <td>100</td>\n",
       "      <td>100</td>\n",
       "      <td>100</td>\n",
       "      <td>100</td>\n",
       "      <td>100</td>\n",
       "      <td>100</td>\n",
       "      <td>100</td>\n",
       "      <td>100</td>\n",
       "      <td>100</td>\n",
       "      <td>100</td>\n",
       "    </tr>\n",
       "    <tr>\n",
       "      <th>1</th>\n",
       "      <td>-88</td>\n",
       "      <td>-64</td>\n",
       "      <td>-68</td>\n",
       "      <td>-88</td>\n",
       "      <td>-86</td>\n",
       "      <td>-90</td>\n",
       "      <td>-68</td>\n",
       "      <td>-88</td>\n",
       "      <td>-66</td>\n",
       "      <td>-86</td>\n",
       "      <td>...</td>\n",
       "      <td>100</td>\n",
       "      <td>100</td>\n",
       "      <td>100</td>\n",
       "      <td>100</td>\n",
       "      <td>100</td>\n",
       "      <td>100</td>\n",
       "      <td>100</td>\n",
       "      <td>100</td>\n",
       "      <td>100</td>\n",
       "      <td>100</td>\n",
       "    </tr>\n",
       "    <tr>\n",
       "      <th>2</th>\n",
       "      <td>-90</td>\n",
       "      <td>-63</td>\n",
       "      <td>-66</td>\n",
       "      <td>-87</td>\n",
       "      <td>-88</td>\n",
       "      <td>-91</td>\n",
       "      <td>-67</td>\n",
       "      <td>-86</td>\n",
       "      <td>-64</td>\n",
       "      <td>-85</td>\n",
       "      <td>...</td>\n",
       "      <td>100</td>\n",
       "      <td>100</td>\n",
       "      <td>100</td>\n",
       "      <td>100</td>\n",
       "      <td>100</td>\n",
       "      <td>100</td>\n",
       "      <td>100</td>\n",
       "      <td>100</td>\n",
       "      <td>100</td>\n",
       "      <td>100</td>\n",
       "    </tr>\n",
       "    <tr>\n",
       "      <th>3</th>\n",
       "      <td>100</td>\n",
       "      <td>-64</td>\n",
       "      <td>-68</td>\n",
       "      <td>-88</td>\n",
       "      <td>100</td>\n",
       "      <td>-88</td>\n",
       "      <td>-66</td>\n",
       "      <td>-88</td>\n",
       "      <td>-63</td>\n",
       "      <td>-86</td>\n",
       "      <td>...</td>\n",
       "      <td>100</td>\n",
       "      <td>100</td>\n",
       "      <td>100</td>\n",
       "      <td>100</td>\n",
       "      <td>100</td>\n",
       "      <td>100</td>\n",
       "      <td>100</td>\n",
       "      <td>100</td>\n",
       "      <td>100</td>\n",
       "      <td>100</td>\n",
       "    </tr>\n",
       "    <tr>\n",
       "      <th>4</th>\n",
       "      <td>100</td>\n",
       "      <td>-65</td>\n",
       "      <td>-67</td>\n",
       "      <td>-85</td>\n",
       "      <td>-87</td>\n",
       "      <td>-89</td>\n",
       "      <td>-66</td>\n",
       "      <td>-89</td>\n",
       "      <td>-65</td>\n",
       "      <td>-87</td>\n",
       "      <td>...</td>\n",
       "      <td>100</td>\n",
       "      <td>100</td>\n",
       "      <td>100</td>\n",
       "      <td>100</td>\n",
       "      <td>100</td>\n",
       "      <td>100</td>\n",
       "      <td>100</td>\n",
       "      <td>100</td>\n",
       "      <td>100</td>\n",
       "      <td>100</td>\n",
       "    </tr>\n",
       "  </tbody>\n",
       "</table>\n",
       "<p>5 rows × 620 columns</p>\n",
       "</div>"
      ]
     },
     "metadata": {},
     "execution_count": 4
    }
   ],
   "metadata": {}
  },
  {
   "cell_type": "code",
   "execution_count": null,
   "source": [],
   "outputs": [],
   "metadata": {}
  },
  {
   "cell_type": "code",
   "execution_count": 37,
   "source": [
    "# Plotting\r\n",
    "X_train = df\r\n",
    "y_train = dfy\r\n",
    "X_test = df_test\r\n",
    "y_test = dfy_test"
   ],
   "outputs": [],
   "metadata": {}
  },
  {
   "cell_type": "code",
   "execution_count": 6,
   "source": [
    "#Importing Libraries\r\n",
    "from sklearn.metrics import r2_score, mean_squared_error,mean_absolute_error\r\n",
    "from sklearn.model_selection import cross_val_score\r\n",
    "import numpy as np\r\n",
    "\r\n",
    "\r\n",
    "rmse_dict = {}    \r\n",
    "def rmse(correct,estimated):\r\n",
    "    rmse_val = np.sqrt(mean_squared_error(correct,estimated)) \r\n",
    "    return rmse_val\r\n",
    "\r\n",
    "# Generating the Table Frame for metrics\r\n",
    "evluation_table = pd.DataFrame({  'Model_desc':[],\r\n",
    "                        'Model_param':[],\r\n",
    "                        'r2_train': [],\r\n",
    "                        'r2_test': [],\r\n",
    "                        'rms_train':[], \r\n",
    "                        'rms_test': [],\r\n",
    "                        'mae_train': [],\r\n",
    "                        'mae_test': [],\r\n",
    "                        'mape_train':[],\r\n",
    "                        'mape_test':[],\r\n",
    "                        'cross_val_score' : []})\r\n",
    "\r\n",
    "\r\n",
    "# Evaluating the model\r\n",
    "def evaluate_model(model, model_desc,model_param, X_train, y_train, X_test, y_test):\r\n",
    "    global evluation_table\r\n",
    "    \r\n",
    "    y_train_pred = model.predict(X_train)\r\n",
    "    y_test_pred = model.predict(X_test)\r\n",
    "        \r\n",
    "    print(y_train.shape,y_train_pred.shape)\r\n",
    "    \r\n",
    "    try:\r\n",
    "        r2_train = r2_score(y_train, y_train_pred)\r\n",
    "        r2_test = r2_score(y_test, y_test_pred)\r\n",
    "    except:\r\n",
    "        r2_train = \"not calculated\"\r\n",
    "        r2_test = \"not calculated\"\r\n",
    "    try:\r\n",
    "        rms_train = rmse(y_train,y_train_pred)\r\n",
    "        rms_test = rmse(y_test, y_test_pred)\r\n",
    "    except:\r\n",
    "        rms_train = \"not calculated\"\r\n",
    "        rms_test = \"not calculated\"\r\n",
    "    try:\r\n",
    "        mae_train = mean_absolute_error(y_train, y_train_pred)\r\n",
    "        mae_test = mean_absolute_error(y_test, y_test_pred)\r\n",
    "    except:\r\n",
    "        mae_train = \"not calculated\"\r\n",
    "        mae_test = \"not calculated\"\r\n",
    "    try:\r\n",
    "        mape_train = np.mean(np.abs((y_train - y_train_pred) / y_train)) * 100\r\n",
    "        mape_test = np.mean(np.abs((y_test - y_test_pred) / y_test)) * 100\r\n",
    "    except:\r\n",
    "        mape_train = \"not calculated\"\r\n",
    "        mape_test = \"not calculated\"   \r\n",
    "    try:\r\n",
    "        cv_score = cross_val_score(model, X_train, y_train, cv=10)\r\n",
    "        cv_score = cv_score.mean()\r\n",
    "    except:\r\n",
    "        cv_score = \"Not calulated\"\r\n",
    "        \r\n",
    "    model_param = pd.DataFrame({'Model_desc':[model_desc],\r\n",
    "                            'Model_param':[model_param],\r\n",
    "                            'r2_train': [r2_train],\r\n",
    "                            'r2_test': [r2_test],\r\n",
    "                            'rms_train':[rms_train], \r\n",
    "                            'rms_test': [rms_test],\r\n",
    "                            'mae_train': [mae_train],\r\n",
    "                            'mae_test': [mae_test],\r\n",
    "                            'mape_train':[mape_train],\r\n",
    "                            'mape_test':[mape_test],\r\n",
    "                            'cross_val_score' : [cv_score]})\r\n",
    "\r\n",
    "    evluation_table = evluation_table.append([model_param])\r\n",
    " \r\n",
    "    return evluation_table"
   ],
   "outputs": [],
   "metadata": {}
  },
  {
   "cell_type": "markdown",
   "source": [
    "------------------------------------RANDOM FOREST----------------------------------------\r\n"
   ],
   "metadata": {}
  },
  {
   "cell_type": "code",
   "execution_count": 7,
   "source": [
    "from sklearn.ensemble import RandomForestRegressor\r\n",
    "regressor = RandomForestRegressor() \r\n",
    "regressor.fit(X_train, y_train)\r\n",
    "y_train.shape"
   ],
   "outputs": [
    {
     "output_type": "execute_result",
     "data": {
      "text/plain": [
       "(575, 3)"
      ]
     },
     "metadata": {},
     "execution_count": 7
    }
   ],
   "metadata": {}
  },
  {
   "cell_type": "code",
   "execution_count": 8,
   "source": [
    "evaluate_model(regressor, \"RandomForestRegressor\",regressor,X_train,y_train.values, X_test , y_test.values)"
   ],
   "outputs": [
    {
     "output_type": "stream",
     "name": "stdout",
     "text": [
      "(575, 3) (575, 3)\n"
     ]
    },
    {
     "output_type": "execute_result",
     "data": {
      "text/plain": [
       "              Model_desc                                        Model_param  \\\n",
       "0  RandomForestRegressor  (DecisionTreeRegressor(max_features='auto', ra...   \n",
       "\n",
       "   r2_train   r2_test  rms_train  rms_test  mae_train  mae_test  mape_train  \\\n",
       "0  0.988522  0.730777   0.376788  1.826277   0.216786  1.146064    2.537615   \n",
       "\n",
       "   mape_test  cross_val_score  \n",
       "0  14.500476        -0.669225  "
      ],
      "text/html": [
       "<div>\n",
       "<style scoped>\n",
       "    .dataframe tbody tr th:only-of-type {\n",
       "        vertical-align: middle;\n",
       "    }\n",
       "\n",
       "    .dataframe tbody tr th {\n",
       "        vertical-align: top;\n",
       "    }\n",
       "\n",
       "    .dataframe thead th {\n",
       "        text-align: right;\n",
       "    }\n",
       "</style>\n",
       "<table border=\"1\" class=\"dataframe\">\n",
       "  <thead>\n",
       "    <tr style=\"text-align: right;\">\n",
       "      <th></th>\n",
       "      <th>Model_desc</th>\n",
       "      <th>Model_param</th>\n",
       "      <th>r2_train</th>\n",
       "      <th>r2_test</th>\n",
       "      <th>rms_train</th>\n",
       "      <th>rms_test</th>\n",
       "      <th>mae_train</th>\n",
       "      <th>mae_test</th>\n",
       "      <th>mape_train</th>\n",
       "      <th>mape_test</th>\n",
       "      <th>cross_val_score</th>\n",
       "    </tr>\n",
       "  </thead>\n",
       "  <tbody>\n",
       "    <tr>\n",
       "      <th>0</th>\n",
       "      <td>RandomForestRegressor</td>\n",
       "      <td>(DecisionTreeRegressor(max_features='auto', ra...</td>\n",
       "      <td>0.988522</td>\n",
       "      <td>0.730777</td>\n",
       "      <td>0.376788</td>\n",
       "      <td>1.826277</td>\n",
       "      <td>0.216786</td>\n",
       "      <td>1.146064</td>\n",
       "      <td>2.537615</td>\n",
       "      <td>14.500476</td>\n",
       "      <td>-0.669225</td>\n",
       "    </tr>\n",
       "  </tbody>\n",
       "</table>\n",
       "</div>"
      ]
     },
     "metadata": {},
     "execution_count": 8
    }
   ],
   "metadata": {}
  },
  {
   "cell_type": "code",
   "execution_count": 9,
   "source": [
    "# test = df\r\n",
    "mtest = pd.read_csv('mtest.csv')\r\n",
    "# print(mtest)\r\n",
    "print(regressor.predict(mtest))\r\n",
    "\r\n",
    "# removetest = dfy.head()\r\n",
    "# print(removetest)\r\n",
    "# print(101100389 - 101100102)"
   ],
   "outputs": [
    {
     "output_type": "stream",
     "name": "stdout",
     "text": [
      "[[11.42140828 26.92777076  3.4       ]]\n"
     ]
    }
   ],
   "metadata": {}
  },
  {
   "cell_type": "markdown",
   "source": [
    "----------------------------KNN-----------------------------------"
   ],
   "metadata": {}
  },
  {
   "cell_type": "code",
   "execution_count": 36,
   "source": [
    "from sklearn.neighbors import KNeighborsClassifier\r\n",
    "\r\n",
    "knn = KNeighborsClassifier(n_neighbors=3)\r\n",
    "# y_train['12.91385188'].astype(\"int64\").dtype\r\n",
    "# print(y_train['12.91385188'].round(0))\r\n",
    "# y_train['12.91385188'] = y_train['12.91385188'].round(0)\r\n",
    "knn.fit(X_train, y_train)"
   ],
   "outputs": [
    {
     "output_type": "error",
     "ename": "ValueError",
     "evalue": "Unknown label type: 'continuous-multioutput'",
     "traceback": [
      "\u001b[1;31m---------------------------------------------------------------------------\u001b[0m",
      "\u001b[1;31mValueError\u001b[0m                                Traceback (most recent call last)",
      "\u001b[1;32m<ipython-input-36-e8227ebbc07f>\u001b[0m in \u001b[0;36m<module>\u001b[1;34m\u001b[0m\n\u001b[0;32m      5\u001b[0m \u001b[1;31m# print(y_train['12.91385188'].round(0))\u001b[0m\u001b[1;33m\u001b[0m\u001b[1;33m\u001b[0m\u001b[1;33m\u001b[0m\u001b[0m\n\u001b[0;32m      6\u001b[0m \u001b[1;31m# y_train['12.91385188'] = y_train['12.91385188'].round(0)\u001b[0m\u001b[1;33m\u001b[0m\u001b[1;33m\u001b[0m\u001b[1;33m\u001b[0m\u001b[0m\n\u001b[1;32m----> 7\u001b[1;33m \u001b[0mneigh\u001b[0m\u001b[1;33m.\u001b[0m\u001b[0mfit\u001b[0m\u001b[1;33m(\u001b[0m\u001b[0mX_train\u001b[0m\u001b[1;33m,\u001b[0m \u001b[0my_train\u001b[0m\u001b[1;33m)\u001b[0m\u001b[1;33m\u001b[0m\u001b[1;33m\u001b[0m\u001b[0m\n\u001b[0m",
      "\u001b[1;32m~\\AppData\\Local\\Programs\\Python\\Python37\\lib\\site-packages\\sklearn\\neighbors\\_classification.py\u001b[0m in \u001b[0;36mfit\u001b[1;34m(self, X, y)\u001b[0m\n\u001b[0;32m    177\u001b[0m             \u001b[0mThe\u001b[0m \u001b[0mfitted\u001b[0m \u001b[0mk\u001b[0m\u001b[1;33m-\u001b[0m\u001b[0mnearest\u001b[0m \u001b[0mneighbors\u001b[0m \u001b[0mclassifier\u001b[0m\u001b[1;33m.\u001b[0m\u001b[1;33m\u001b[0m\u001b[1;33m\u001b[0m\u001b[0m\n\u001b[0;32m    178\u001b[0m         \"\"\"\n\u001b[1;32m--> 179\u001b[1;33m         \u001b[1;32mreturn\u001b[0m \u001b[0mself\u001b[0m\u001b[1;33m.\u001b[0m\u001b[0m_fit\u001b[0m\u001b[1;33m(\u001b[0m\u001b[0mX\u001b[0m\u001b[1;33m,\u001b[0m \u001b[0my\u001b[0m\u001b[1;33m)\u001b[0m\u001b[1;33m\u001b[0m\u001b[1;33m\u001b[0m\u001b[0m\n\u001b[0m\u001b[0;32m    180\u001b[0m \u001b[1;33m\u001b[0m\u001b[0m\n\u001b[0;32m    181\u001b[0m     \u001b[1;32mdef\u001b[0m \u001b[0mpredict\u001b[0m\u001b[1;33m(\u001b[0m\u001b[0mself\u001b[0m\u001b[1;33m,\u001b[0m \u001b[0mX\u001b[0m\u001b[1;33m)\u001b[0m\u001b[1;33m:\u001b[0m\u001b[1;33m\u001b[0m\u001b[1;33m\u001b[0m\u001b[0m\n",
      "\u001b[1;32m~\\AppData\\Local\\Programs\\Python\\Python37\\lib\\site-packages\\sklearn\\neighbors\\_base.py\u001b[0m in \u001b[0;36m_fit\u001b[1;34m(self, X, y)\u001b[0m\n\u001b[0;32m    379\u001b[0m                     \u001b[0mself\u001b[0m\u001b[1;33m.\u001b[0m\u001b[0moutputs_2d_\u001b[0m \u001b[1;33m=\u001b[0m \u001b[1;32mTrue\u001b[0m\u001b[1;33m\u001b[0m\u001b[1;33m\u001b[0m\u001b[0m\n\u001b[0;32m    380\u001b[0m \u001b[1;33m\u001b[0m\u001b[0m\n\u001b[1;32m--> 381\u001b[1;33m                 \u001b[0mcheck_classification_targets\u001b[0m\u001b[1;33m(\u001b[0m\u001b[0my\u001b[0m\u001b[1;33m)\u001b[0m\u001b[1;33m\u001b[0m\u001b[1;33m\u001b[0m\u001b[0m\n\u001b[0m\u001b[0;32m    382\u001b[0m                 \u001b[0mself\u001b[0m\u001b[1;33m.\u001b[0m\u001b[0mclasses_\u001b[0m \u001b[1;33m=\u001b[0m \u001b[1;33m[\u001b[0m\u001b[1;33m]\u001b[0m\u001b[1;33m\u001b[0m\u001b[1;33m\u001b[0m\u001b[0m\n\u001b[0;32m    383\u001b[0m                 \u001b[0mself\u001b[0m\u001b[1;33m.\u001b[0m\u001b[0m_y\u001b[0m \u001b[1;33m=\u001b[0m \u001b[0mnp\u001b[0m\u001b[1;33m.\u001b[0m\u001b[0mempty\u001b[0m\u001b[1;33m(\u001b[0m\u001b[0my\u001b[0m\u001b[1;33m.\u001b[0m\u001b[0mshape\u001b[0m\u001b[1;33m,\u001b[0m \u001b[0mdtype\u001b[0m\u001b[1;33m=\u001b[0m\u001b[0mint\u001b[0m\u001b[1;33m)\u001b[0m\u001b[1;33m\u001b[0m\u001b[1;33m\u001b[0m\u001b[0m\n",
      "\u001b[1;32m~\\AppData\\Local\\Programs\\Python\\Python37\\lib\\site-packages\\sklearn\\utils\\multiclass.py\u001b[0m in \u001b[0;36mcheck_classification_targets\u001b[1;34m(y)\u001b[0m\n\u001b[0;32m    181\u001b[0m     if y_type not in ['binary', 'multiclass', 'multiclass-multioutput',\n\u001b[0;32m    182\u001b[0m                       'multilabel-indicator', 'multilabel-sequences']:\n\u001b[1;32m--> 183\u001b[1;33m         \u001b[1;32mraise\u001b[0m \u001b[0mValueError\u001b[0m\u001b[1;33m(\u001b[0m\u001b[1;34m\"Unknown label type: %r\"\u001b[0m \u001b[1;33m%\u001b[0m \u001b[0my_type\u001b[0m\u001b[1;33m)\u001b[0m\u001b[1;33m\u001b[0m\u001b[1;33m\u001b[0m\u001b[0m\n\u001b[0m\u001b[0;32m    184\u001b[0m \u001b[1;33m\u001b[0m\u001b[0m\n\u001b[0;32m    185\u001b[0m \u001b[1;33m\u001b[0m\u001b[0m\n",
      "\u001b[1;31mValueError\u001b[0m: Unknown label type: 'continuous-multioutput'"
     ]
    }
   ],
   "metadata": {}
  },
  {
   "cell_type": "markdown",
   "source": [
    "----------------------- LINEAR REGRESSION------------------"
   ],
   "metadata": {}
  },
  {
   "cell_type": "code",
   "execution_count": 43,
   "source": [
    "from sklearn.linear_model import LinearRegression\r\n",
    "\r\n",
    "linear_regressor = LinearRegression().fit(X_train, y_train)\r\n",
    "\r\n",
    "linear_regressor.score(X_train, y_train)"
   ],
   "outputs": [
    {
     "output_type": "execute_result",
     "data": {
      "text/plain": [
       "0.8282731626372802"
      ]
     },
     "metadata": {},
     "execution_count": 43
    }
   ],
   "metadata": {}
  },
  {
   "cell_type": "code",
   "execution_count": null,
   "source": [
    "evaluate_model(regressor, \"LinearRegressor\",linear_regressor,X_train,y_train.values, X_test , y_test.values)"
   ],
   "outputs": [],
   "metadata": {}
  },
  {
   "cell_type": "code",
   "execution_count": 42,
   "source": [
    "# test = df\r\n",
    "mtest = pd.read_csv('mtest.csv')\r\n",
    "# print(mtest)\r\n",
    "print(linear_regressor.predict(mtest))"
   ],
   "outputs": [
    {
     "output_type": "stream",
     "name": "stdout",
     "text": [
      "[[ 9.58784485 26.33401489  3.67459106]]\n"
     ]
    }
   ],
   "metadata": {}
  }
 ]
}