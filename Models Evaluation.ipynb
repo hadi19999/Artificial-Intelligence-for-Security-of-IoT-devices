{
 "metadata": {
  "language_info": {
   "codemirror_mode": {
    "name": "ipython",
    "version": 3
   },
   "file_extension": ".py",
   "mimetype": "text/x-python",
   "name": "python",
   "nbconvert_exporter": "python",
   "pygments_lexer": "ipython3",
   "version": "3.7.9"
  },
  "orig_nbformat": 2,
  "kernelspec": {
   "name": "python3",
   "display_name": "Python 3.7.9 64-bit"
  },
  "interpreter": {
   "hash": "5cd6e08819e5b50081dfb8d55387c278a7215dab6b5bbcbd54fa57386af92bd4"
  }
 },
 "nbformat": 4,
 "nbformat_minor": 2,
 "cells": [
  {
   "cell_type": "code",
   "execution_count": 1,
   "source": [
    "# Libraries import\r\n",
    "import pandas as pd\r\n",
    "import seaborn as sns"
   ],
   "outputs": [],
   "metadata": {}
  },
  {
   "cell_type": "code",
   "execution_count": 2,
   "source": [
    "# Importing files\r\n",
    "df = pd.read_csv('rssprints_train.csv')\r\n",
    "dfy = pd.read_csv('coordinates_train.csv')\r\n",
    "\r\n",
    "df_test = pd.read_csv('rssprints_test.csv')\r\n",
    "dfy_test = pd.read_csv('coordinates_test.csv')"
   ],
   "outputs": [],
   "metadata": {}
  },
  {
   "cell_type": "code",
   "execution_count": 3,
   "source": [
    "# Checking data\r\n",
    "df.head()"
   ],
   "outputs": [
    {
     "output_type": "execute_result",
     "data": {
      "text/plain": [
       "   -90  -62  -69  -87  -85  -87.1  -68  -86  -63  -85.1  ...  100.598  \\\n",
       "0  -93  -65  -67  -85  -88    -87  -67  -86  -66    -88  ...      100   \n",
       "1  -88  -64  -68  -88  -86    -90  -68  -88  -66    -86  ...      100   \n",
       "2  -90  -63  -66  -87  -88    -91  -67  -86  -64    -85  ...      100   \n",
       "3  100  -64  -68  -88  100    -88  -66  -88  -63    -86  ...      100   \n",
       "4  100  -65  -67  -85  -87    -89  -66  -89  -65    -87  ...      100   \n",
       "\n",
       "   100.599  100.600  100.601  100.602  100.603  100.604  100.605  100.606  \\\n",
       "0      100      100      100      100      100      100      100      100   \n",
       "1      100      100      100      100      100      100      100      100   \n",
       "2      100      100      100      100      100      100      100      100   \n",
       "3      100      100      100      100      100      100      100      100   \n",
       "4      100      100      100      100      100      100      100      100   \n",
       "\n",
       "   100.607  \n",
       "0      100  \n",
       "1      100  \n",
       "2      100  \n",
       "3      100  \n",
       "4      100  \n",
       "\n",
       "[5 rows x 620 columns]"
      ],
      "text/html": [
       "<div>\n",
       "<style scoped>\n",
       "    .dataframe tbody tr th:only-of-type {\n",
       "        vertical-align: middle;\n",
       "    }\n",
       "\n",
       "    .dataframe tbody tr th {\n",
       "        vertical-align: top;\n",
       "    }\n",
       "\n",
       "    .dataframe thead th {\n",
       "        text-align: right;\n",
       "    }\n",
       "</style>\n",
       "<table border=\"1\" class=\"dataframe\">\n",
       "  <thead>\n",
       "    <tr style=\"text-align: right;\">\n",
       "      <th></th>\n",
       "      <th>-90</th>\n",
       "      <th>-62</th>\n",
       "      <th>-69</th>\n",
       "      <th>-87</th>\n",
       "      <th>-85</th>\n",
       "      <th>-87.1</th>\n",
       "      <th>-68</th>\n",
       "      <th>-86</th>\n",
       "      <th>-63</th>\n",
       "      <th>-85.1</th>\n",
       "      <th>...</th>\n",
       "      <th>100.598</th>\n",
       "      <th>100.599</th>\n",
       "      <th>100.600</th>\n",
       "      <th>100.601</th>\n",
       "      <th>100.602</th>\n",
       "      <th>100.603</th>\n",
       "      <th>100.604</th>\n",
       "      <th>100.605</th>\n",
       "      <th>100.606</th>\n",
       "      <th>100.607</th>\n",
       "    </tr>\n",
       "  </thead>\n",
       "  <tbody>\n",
       "    <tr>\n",
       "      <th>0</th>\n",
       "      <td>-93</td>\n",
       "      <td>-65</td>\n",
       "      <td>-67</td>\n",
       "      <td>-85</td>\n",
       "      <td>-88</td>\n",
       "      <td>-87</td>\n",
       "      <td>-67</td>\n",
       "      <td>-86</td>\n",
       "      <td>-66</td>\n",
       "      <td>-88</td>\n",
       "      <td>...</td>\n",
       "      <td>100</td>\n",
       "      <td>100</td>\n",
       "      <td>100</td>\n",
       "      <td>100</td>\n",
       "      <td>100</td>\n",
       "      <td>100</td>\n",
       "      <td>100</td>\n",
       "      <td>100</td>\n",
       "      <td>100</td>\n",
       "      <td>100</td>\n",
       "    </tr>\n",
       "    <tr>\n",
       "      <th>1</th>\n",
       "      <td>-88</td>\n",
       "      <td>-64</td>\n",
       "      <td>-68</td>\n",
       "      <td>-88</td>\n",
       "      <td>-86</td>\n",
       "      <td>-90</td>\n",
       "      <td>-68</td>\n",
       "      <td>-88</td>\n",
       "      <td>-66</td>\n",
       "      <td>-86</td>\n",
       "      <td>...</td>\n",
       "      <td>100</td>\n",
       "      <td>100</td>\n",
       "      <td>100</td>\n",
       "      <td>100</td>\n",
       "      <td>100</td>\n",
       "      <td>100</td>\n",
       "      <td>100</td>\n",
       "      <td>100</td>\n",
       "      <td>100</td>\n",
       "      <td>100</td>\n",
       "    </tr>\n",
       "    <tr>\n",
       "      <th>2</th>\n",
       "      <td>-90</td>\n",
       "      <td>-63</td>\n",
       "      <td>-66</td>\n",
       "      <td>-87</td>\n",
       "      <td>-88</td>\n",
       "      <td>-91</td>\n",
       "      <td>-67</td>\n",
       "      <td>-86</td>\n",
       "      <td>-64</td>\n",
       "      <td>-85</td>\n",
       "      <td>...</td>\n",
       "      <td>100</td>\n",
       "      <td>100</td>\n",
       "      <td>100</td>\n",
       "      <td>100</td>\n",
       "      <td>100</td>\n",
       "      <td>100</td>\n",
       "      <td>100</td>\n",
       "      <td>100</td>\n",
       "      <td>100</td>\n",
       "      <td>100</td>\n",
       "    </tr>\n",
       "    <tr>\n",
       "      <th>3</th>\n",
       "      <td>100</td>\n",
       "      <td>-64</td>\n",
       "      <td>-68</td>\n",
       "      <td>-88</td>\n",
       "      <td>100</td>\n",
       "      <td>-88</td>\n",
       "      <td>-66</td>\n",
       "      <td>-88</td>\n",
       "      <td>-63</td>\n",
       "      <td>-86</td>\n",
       "      <td>...</td>\n",
       "      <td>100</td>\n",
       "      <td>100</td>\n",
       "      <td>100</td>\n",
       "      <td>100</td>\n",
       "      <td>100</td>\n",
       "      <td>100</td>\n",
       "      <td>100</td>\n",
       "      <td>100</td>\n",
       "      <td>100</td>\n",
       "      <td>100</td>\n",
       "    </tr>\n",
       "    <tr>\n",
       "      <th>4</th>\n",
       "      <td>100</td>\n",
       "      <td>-65</td>\n",
       "      <td>-67</td>\n",
       "      <td>-85</td>\n",
       "      <td>-87</td>\n",
       "      <td>-89</td>\n",
       "      <td>-66</td>\n",
       "      <td>-89</td>\n",
       "      <td>-65</td>\n",
       "      <td>-87</td>\n",
       "      <td>...</td>\n",
       "      <td>100</td>\n",
       "      <td>100</td>\n",
       "      <td>100</td>\n",
       "      <td>100</td>\n",
       "      <td>100</td>\n",
       "      <td>100</td>\n",
       "      <td>100</td>\n",
       "      <td>100</td>\n",
       "      <td>100</td>\n",
       "      <td>100</td>\n",
       "    </tr>\n",
       "  </tbody>\n",
       "</table>\n",
       "<p>5 rows × 620 columns</p>\n",
       "</div>"
      ]
     },
     "metadata": {},
     "execution_count": 3
    }
   ],
   "metadata": {}
  },
  {
   "cell_type": "code",
   "execution_count": null,
   "source": [],
   "outputs": [],
   "metadata": {}
  },
  {
   "cell_type": "code",
   "execution_count": 4,
   "source": [
    "# Plotting\r\n",
    "X_train = df\r\n",
    "y_train = dfy\r\n",
    "X_test = df_test\r\n",
    "y_test = dfy_test"
   ],
   "outputs": [],
   "metadata": {}
  },
  {
   "cell_type": "code",
   "execution_count": 17,
   "source": [
    "#Importing Libraries\r\n",
    "from sklearn.metrics import r2_score, mean_squared_error,mean_absolute_error\r\n",
    "from sklearn.model_selection import cross_val_score\r\n",
    "import numpy as np\r\n",
    "\r\n",
    "\r\n",
    "rmse_dict = {}    \r\n",
    "def rmse(correct,estimated):\r\n",
    "    rmse_val = np.sqrt(mean_squared_error(correct,estimated)) \r\n",
    "    return rmse_val\r\n",
    "\r\n",
    "# Generating the Table Frame for metrics\r\n",
    "evluation_table = pd.DataFrame({  'Model_desc':[],\r\n",
    "                        'Model_param':[],\r\n",
    "                        'r2_train': [],\r\n",
    "                        'r2_test': [],\r\n",
    "                        'rms_train':[], \r\n",
    "                        'rms_test': [],\r\n",
    "                        'mae_train': [],\r\n",
    "                        'mae_test': [],\r\n",
    "                        'mape_train':[],\r\n",
    "                        'mape_test':[],\r\n",
    "                        'cross_val_score' : []})\r\n",
    "\r\n",
    "\r\n",
    "# Evaluating the model\r\n",
    "def evaluate_model(model, model_desc,model_param, X_train, y_train, X_test, y_test):\r\n",
    "    global evluation_table\r\n",
    "    \r\n",
    "    y_train_pred = model.predict(X_train)\r\n",
    "    y_test_pred = model.predict(X_test)\r\n",
    "        \r\n",
    "    print(y_train.shape,y_train_pred.shape)\r\n",
    "    \r\n",
    "    try:\r\n",
    "        r2_train = r2_score(y_train, y_train_pred)\r\n",
    "        r2_test = r2_score(y_test, y_test_pred)\r\n",
    "    except:\r\n",
    "        r2_train = \"not calculated\"\r\n",
    "        r2_test = \"not calculated\"\r\n",
    "    try:\r\n",
    "        rms_train = rmse(y_train,y_train_pred)\r\n",
    "        rms_test = rmse(y_test, y_test_pred)\r\n",
    "    except:\r\n",
    "        rms_train = \"not calculated\"\r\n",
    "        rms_test = \"not calculated\"\r\n",
    "    try:\r\n",
    "        mae_train = mean_absolute_error(y_train, y_train_pred)\r\n",
    "        mae_test = mean_absolute_error(y_test, y_test_pred)\r\n",
    "    except:\r\n",
    "        mae_train = \"not calculated\"\r\n",
    "        mae_test = \"not calculated\"\r\n",
    "    try:\r\n",
    "        mape_train = np.mean(np.abs((y_train - y_train_pred) / y_train)) * 100\r\n",
    "        mape_test = np.mean(np.abs((y_test - y_test_pred) / y_test)) * 100\r\n",
    "    except:\r\n",
    "        mape_train = \"not calculated\"\r\n",
    "        mape_test = \"not calculated\"   \r\n",
    "    try:\r\n",
    "        cv_score = cross_val_score(model, X_train, y_train, cv=10)\r\n",
    "        cv_score = cv_score.mean()\r\n",
    "    except:\r\n",
    "        cv_score = \"Not calulated\"\r\n",
    "    model_param = pd.DataFrame({'Model_desc':[model_desc],\r\n",
    "                            'Model_param':[model_param],\r\n",
    "                            'r2_train': [r2_train],\r\n",
    "                            'r2_test': [r2_test],\r\n",
    "                            'rms_train':[rms_train], \r\n",
    "                            'rms_test': [rms_test],\r\n",
    "                            'mae_train': [mae_train],\r\n",
    "                            'mae_test': [mae_test],\r\n",
    "                            'mape_train':[mape_train],\r\n",
    "                            'mape_test':[mape_test],\r\n",
    "                            'cross_val_score' : [cv_score]})\r\n",
    "\r\n",
    "    evluation_table = evluation_table.append([model_param])\r\n",
    " \r\n",
    "    return evluation_table"
   ],
   "outputs": [],
   "metadata": {}
  },
  {
   "cell_type": "markdown",
   "source": [
    "------------------------------------RANDOM FOREST----------------------------------------\r\n"
   ],
   "metadata": {}
  },
  {
   "cell_type": "code",
   "execution_count": 18,
   "source": [
    "from sklearn.ensemble import RandomForestRegressor\r\n",
    "regressor = RandomForestRegressor() \r\n",
    "regressor.fit(X_train, y_train)\r\n",
    "y_train.shape"
   ],
   "outputs": [
    {
     "output_type": "execute_result",
     "data": {
      "text/plain": [
       "(575, 3)"
      ]
     },
     "metadata": {},
     "execution_count": 18
    }
   ],
   "metadata": {}
  },
  {
   "cell_type": "code",
   "execution_count": 19,
   "source": [
    "evaluate_model(regressor, \"RandomForestRegressor\",regressor,X_train,y_train.values, X_test , y_test.values)"
   ],
   "outputs": [
    {
     "output_type": "stream",
     "name": "stdout",
     "text": [
      "(575, 3) (575, 3)\n"
     ]
    },
    {
     "output_type": "error",
     "ename": "ValueError",
     "evalue": "continuous-multioutput is not supported",
     "traceback": [
      "\u001b[1;31m---------------------------------------------------------------------------\u001b[0m",
      "\u001b[1;31mValueError\u001b[0m                                Traceback (most recent call last)",
      "\u001b[1;32m<ipython-input-19-3f4c7d3b2053>\u001b[0m in \u001b[0;36m<module>\u001b[1;34m\u001b[0m\n\u001b[1;32m----> 1\u001b[1;33m \u001b[0mevaluate_model\u001b[0m\u001b[1;33m(\u001b[0m\u001b[0mregressor\u001b[0m\u001b[1;33m,\u001b[0m \u001b[1;34m\"RandomForestRegressor\"\u001b[0m\u001b[1;33m,\u001b[0m\u001b[0mregressor\u001b[0m\u001b[1;33m,\u001b[0m\u001b[0mX_train\u001b[0m\u001b[1;33m,\u001b[0m\u001b[0my_train\u001b[0m\u001b[1;33m.\u001b[0m\u001b[0mvalues\u001b[0m\u001b[1;33m,\u001b[0m \u001b[0mX_test\u001b[0m \u001b[1;33m,\u001b[0m \u001b[0my_test\u001b[0m\u001b[1;33m.\u001b[0m\u001b[0mvalues\u001b[0m\u001b[1;33m)\u001b[0m\u001b[1;33m\u001b[0m\u001b[1;33m\u001b[0m\u001b[0m\n\u001b[0m",
      "\u001b[1;32m<ipython-input-17-abb63eadaba7>\u001b[0m in \u001b[0;36mevaluate_model\u001b[1;34m(model, model_desc, model_param, X_train, y_train, X_test, y_test)\u001b[0m\n\u001b[0;32m     64\u001b[0m \u001b[1;33m\u001b[0m\u001b[0m\n\u001b[0;32m     65\u001b[0m     \u001b[1;31m# try:\u001b[0m\u001b[1;33m\u001b[0m\u001b[1;33m\u001b[0m\u001b[1;33m\u001b[0m\u001b[0m\n\u001b[1;32m---> 66\u001b[1;33m     \u001b[0mtest_accuracy\u001b[0m \u001b[1;33m=\u001b[0m \u001b[0maccuracy_score\u001b[0m\u001b[1;33m(\u001b[0m\u001b[0my_test\u001b[0m\u001b[1;33m,\u001b[0m\u001b[0my_test_pred\u001b[0m\u001b[1;33m)\u001b[0m\u001b[1;33m\u001b[0m\u001b[1;33m\u001b[0m\u001b[0m\n\u001b[0m\u001b[0;32m     67\u001b[0m     \u001b[1;31m# except:\u001b[0m\u001b[1;33m\u001b[0m\u001b[1;33m\u001b[0m\u001b[1;33m\u001b[0m\u001b[0m\n\u001b[0;32m     68\u001b[0m     \u001b[1;31m#     test_accuracy = \"Not calulated\"\u001b[0m\u001b[1;33m\u001b[0m\u001b[1;33m\u001b[0m\u001b[1;33m\u001b[0m\u001b[0m\n",
      "\u001b[1;32m~\\AppData\\Local\\Programs\\Python\\Python37\\lib\\site-packages\\sklearn\\utils\\validation.py\u001b[0m in \u001b[0;36minner_f\u001b[1;34m(*args, **kwargs)\u001b[0m\n\u001b[0;32m     61\u001b[0m             \u001b[0mextra_args\u001b[0m \u001b[1;33m=\u001b[0m \u001b[0mlen\u001b[0m\u001b[1;33m(\u001b[0m\u001b[0margs\u001b[0m\u001b[1;33m)\u001b[0m \u001b[1;33m-\u001b[0m \u001b[0mlen\u001b[0m\u001b[1;33m(\u001b[0m\u001b[0mall_args\u001b[0m\u001b[1;33m)\u001b[0m\u001b[1;33m\u001b[0m\u001b[1;33m\u001b[0m\u001b[0m\n\u001b[0;32m     62\u001b[0m             \u001b[1;32mif\u001b[0m \u001b[0mextra_args\u001b[0m \u001b[1;33m<=\u001b[0m \u001b[1;36m0\u001b[0m\u001b[1;33m:\u001b[0m\u001b[1;33m\u001b[0m\u001b[1;33m\u001b[0m\u001b[0m\n\u001b[1;32m---> 63\u001b[1;33m                 \u001b[1;32mreturn\u001b[0m \u001b[0mf\u001b[0m\u001b[1;33m(\u001b[0m\u001b[1;33m*\u001b[0m\u001b[0margs\u001b[0m\u001b[1;33m,\u001b[0m \u001b[1;33m**\u001b[0m\u001b[0mkwargs\u001b[0m\u001b[1;33m)\u001b[0m\u001b[1;33m\u001b[0m\u001b[1;33m\u001b[0m\u001b[0m\n\u001b[0m\u001b[0;32m     64\u001b[0m \u001b[1;33m\u001b[0m\u001b[0m\n\u001b[0;32m     65\u001b[0m             \u001b[1;31m# extra_args > 0\u001b[0m\u001b[1;33m\u001b[0m\u001b[1;33m\u001b[0m\u001b[1;33m\u001b[0m\u001b[0m\n",
      "\u001b[1;32m~\\AppData\\Local\\Programs\\Python\\Python37\\lib\\site-packages\\sklearn\\metrics\\_classification.py\u001b[0m in \u001b[0;36maccuracy_score\u001b[1;34m(y_true, y_pred, normalize, sample_weight)\u001b[0m\n\u001b[0;32m    200\u001b[0m \u001b[1;33m\u001b[0m\u001b[0m\n\u001b[0;32m    201\u001b[0m     \u001b[1;31m# Compute accuracy for each possible representation\u001b[0m\u001b[1;33m\u001b[0m\u001b[1;33m\u001b[0m\u001b[1;33m\u001b[0m\u001b[0m\n\u001b[1;32m--> 202\u001b[1;33m     \u001b[0my_type\u001b[0m\u001b[1;33m,\u001b[0m \u001b[0my_true\u001b[0m\u001b[1;33m,\u001b[0m \u001b[0my_pred\u001b[0m \u001b[1;33m=\u001b[0m \u001b[0m_check_targets\u001b[0m\u001b[1;33m(\u001b[0m\u001b[0my_true\u001b[0m\u001b[1;33m,\u001b[0m \u001b[0my_pred\u001b[0m\u001b[1;33m)\u001b[0m\u001b[1;33m\u001b[0m\u001b[1;33m\u001b[0m\u001b[0m\n\u001b[0m\u001b[0;32m    203\u001b[0m     \u001b[0mcheck_consistent_length\u001b[0m\u001b[1;33m(\u001b[0m\u001b[0my_true\u001b[0m\u001b[1;33m,\u001b[0m \u001b[0my_pred\u001b[0m\u001b[1;33m,\u001b[0m \u001b[0msample_weight\u001b[0m\u001b[1;33m)\u001b[0m\u001b[1;33m\u001b[0m\u001b[1;33m\u001b[0m\u001b[0m\n\u001b[0;32m    204\u001b[0m     \u001b[1;32mif\u001b[0m \u001b[0my_type\u001b[0m\u001b[1;33m.\u001b[0m\u001b[0mstartswith\u001b[0m\u001b[1;33m(\u001b[0m\u001b[1;34m'multilabel'\u001b[0m\u001b[1;33m)\u001b[0m\u001b[1;33m:\u001b[0m\u001b[1;33m\u001b[0m\u001b[1;33m\u001b[0m\u001b[0m\n",
      "\u001b[1;32m~\\AppData\\Local\\Programs\\Python\\Python37\\lib\\site-packages\\sklearn\\metrics\\_classification.py\u001b[0m in \u001b[0;36m_check_targets\u001b[1;34m(y_true, y_pred)\u001b[0m\n\u001b[0;32m     98\u001b[0m     \u001b[1;31m# No metrics support \"multiclass-multioutput\" format\u001b[0m\u001b[1;33m\u001b[0m\u001b[1;33m\u001b[0m\u001b[1;33m\u001b[0m\u001b[0m\n\u001b[0;32m     99\u001b[0m     \u001b[1;32mif\u001b[0m \u001b[1;33m(\u001b[0m\u001b[0my_type\u001b[0m \u001b[1;32mnot\u001b[0m \u001b[1;32min\u001b[0m \u001b[1;33m[\u001b[0m\u001b[1;34m\"binary\"\u001b[0m\u001b[1;33m,\u001b[0m \u001b[1;34m\"multiclass\"\u001b[0m\u001b[1;33m,\u001b[0m \u001b[1;34m\"multilabel-indicator\"\u001b[0m\u001b[1;33m]\u001b[0m\u001b[1;33m)\u001b[0m\u001b[1;33m:\u001b[0m\u001b[1;33m\u001b[0m\u001b[1;33m\u001b[0m\u001b[0m\n\u001b[1;32m--> 100\u001b[1;33m         \u001b[1;32mraise\u001b[0m \u001b[0mValueError\u001b[0m\u001b[1;33m(\u001b[0m\u001b[1;34m\"{0} is not supported\"\u001b[0m\u001b[1;33m.\u001b[0m\u001b[0mformat\u001b[0m\u001b[1;33m(\u001b[0m\u001b[0my_type\u001b[0m\u001b[1;33m)\u001b[0m\u001b[1;33m)\u001b[0m\u001b[1;33m\u001b[0m\u001b[1;33m\u001b[0m\u001b[0m\n\u001b[0m\u001b[0;32m    101\u001b[0m \u001b[1;33m\u001b[0m\u001b[0m\n\u001b[0;32m    102\u001b[0m     \u001b[1;32mif\u001b[0m \u001b[0my_type\u001b[0m \u001b[1;32min\u001b[0m \u001b[1;33m[\u001b[0m\u001b[1;34m\"binary\"\u001b[0m\u001b[1;33m,\u001b[0m \u001b[1;34m\"multiclass\"\u001b[0m\u001b[1;33m]\u001b[0m\u001b[1;33m:\u001b[0m\u001b[1;33m\u001b[0m\u001b[1;33m\u001b[0m\u001b[0m\n",
      "\u001b[1;31mValueError\u001b[0m: continuous-multioutput is not supported"
     ]
    }
   ],
   "metadata": {}
  },
  {
   "cell_type": "code",
   "execution_count": 8,
   "source": [
    "# test = df\r\n",
    "mtest = pd.read_csv('mtest.csv')\r\n",
    "# print(mtest)\r\n",
    "print(regressor.predict(mtest))\r\n",
    "\r\n",
    "# removetest = dfy.head()\r\n",
    "# print(removetest)\r\n",
    "# print(101100389 - 101100102)"
   ],
   "outputs": [
    {
     "output_type": "stream",
     "name": "stdout",
     "text": [
      "[[11.81646688 26.98141389  3.5       ]]\n"
     ]
    }
   ],
   "metadata": {}
  },
  {
   "cell_type": "markdown",
   "source": [
    "----------------------------KNN-----------------------------------"
   ],
   "metadata": {}
  },
  {
   "cell_type": "code",
   "execution_count": 9,
   "source": [
    "from sklearn.neighbors import KNeighborsRegressor\r\n",
    "\r\n",
    "knn = KNeighborsRegressor(n_neighbors=200)\r\n",
    "knn.fit(X_train, y_train)"
   ],
   "outputs": [
    {
     "output_type": "execute_result",
     "data": {
      "text/plain": [
       "KNeighborsRegressor(n_neighbors=200)"
      ]
     },
     "metadata": {},
     "execution_count": 9
    }
   ],
   "metadata": {}
  },
  {
   "cell_type": "code",
   "execution_count": 10,
   "source": [
    "evaluate_model(knn, \"K Nearest Neighbor\",knn,X_train,y_train.values, X_test , y_test.values)"
   ],
   "outputs": [
    {
     "output_type": "stream",
     "name": "stdout",
     "text": [
      "(575, 3) (575, 3)\n"
     ]
    },
    {
     "output_type": "execute_result",
     "data": {
      "text/plain": [
       "              Model_desc                                        Model_param  \\\n",
       "0  RandomForestRegressor  (DecisionTreeRegressor(max_features='auto', ra...   \n",
       "0     K Nearest Neighbor               KNeighborsRegressor(n_neighbors=200)   \n",
       "\n",
       "   r2_train   r2_test  rms_train  rms_test  mae_train  mae_test  mape_train  \\\n",
       "0  0.989304  0.727867   0.367223  1.830723   0.210193  1.147241    2.480787   \n",
       "0  0.565777  0.542416   2.440830  2.489726   1.773635  1.842117   18.680565   \n",
       "\n",
       "   mape_test  cross_val_score  \n",
       "0  14.488813        -0.683614  \n",
       "0  19.693474        -3.961526  "
      ],
      "text/html": [
       "<div>\n",
       "<style scoped>\n",
       "    .dataframe tbody tr th:only-of-type {\n",
       "        vertical-align: middle;\n",
       "    }\n",
       "\n",
       "    .dataframe tbody tr th {\n",
       "        vertical-align: top;\n",
       "    }\n",
       "\n",
       "    .dataframe thead th {\n",
       "        text-align: right;\n",
       "    }\n",
       "</style>\n",
       "<table border=\"1\" class=\"dataframe\">\n",
       "  <thead>\n",
       "    <tr style=\"text-align: right;\">\n",
       "      <th></th>\n",
       "      <th>Model_desc</th>\n",
       "      <th>Model_param</th>\n",
       "      <th>r2_train</th>\n",
       "      <th>r2_test</th>\n",
       "      <th>rms_train</th>\n",
       "      <th>rms_test</th>\n",
       "      <th>mae_train</th>\n",
       "      <th>mae_test</th>\n",
       "      <th>mape_train</th>\n",
       "      <th>mape_test</th>\n",
       "      <th>cross_val_score</th>\n",
       "    </tr>\n",
       "  </thead>\n",
       "  <tbody>\n",
       "    <tr>\n",
       "      <th>0</th>\n",
       "      <td>RandomForestRegressor</td>\n",
       "      <td>(DecisionTreeRegressor(max_features='auto', ra...</td>\n",
       "      <td>0.989304</td>\n",
       "      <td>0.727867</td>\n",
       "      <td>0.367223</td>\n",
       "      <td>1.830723</td>\n",
       "      <td>0.210193</td>\n",
       "      <td>1.147241</td>\n",
       "      <td>2.480787</td>\n",
       "      <td>14.488813</td>\n",
       "      <td>-0.683614</td>\n",
       "    </tr>\n",
       "    <tr>\n",
       "      <th>0</th>\n",
       "      <td>K Nearest Neighbor</td>\n",
       "      <td>KNeighborsRegressor(n_neighbors=200)</td>\n",
       "      <td>0.565777</td>\n",
       "      <td>0.542416</td>\n",
       "      <td>2.440830</td>\n",
       "      <td>2.489726</td>\n",
       "      <td>1.773635</td>\n",
       "      <td>1.842117</td>\n",
       "      <td>18.680565</td>\n",
       "      <td>19.693474</td>\n",
       "      <td>-3.961526</td>\n",
       "    </tr>\n",
       "  </tbody>\n",
       "</table>\n",
       "</div>"
      ]
     },
     "metadata": {},
     "execution_count": 10
    }
   ],
   "metadata": {}
  },
  {
   "cell_type": "markdown",
   "source": [
    "----------------------- LINEAR REGRESSION------------------"
   ],
   "metadata": {}
  },
  {
   "cell_type": "code",
   "execution_count": 11,
   "source": [
    "from sklearn.linear_model import LinearRegression\r\n",
    "\r\n",
    "linear_regressor = LinearRegression().fit(X_train, y_train)\r\n",
    "\r\n",
    "linear_regressor.score(X_train, y_train)"
   ],
   "outputs": [
    {
     "output_type": "execute_result",
     "data": {
      "text/plain": [
       "0.8341078220197908"
      ]
     },
     "metadata": {},
     "execution_count": 11
    }
   ],
   "metadata": {}
  },
  {
   "cell_type": "code",
   "execution_count": 12,
   "source": [
    "evaluate_model(linear_regressor, \"LinearRegressor\",linear_regressor,X_train,y_train.values, X_test , y_test.values)"
   ],
   "outputs": [
    {
     "output_type": "stream",
     "name": "stdout",
     "text": [
      "(575, 3) (575, 3)\n"
     ]
    },
    {
     "output_type": "execute_result",
     "data": {
      "text/plain": [
       "              Model_desc                                        Model_param  \\\n",
       "0  RandomForestRegressor  (DecisionTreeRegressor(max_features='auto', ra...   \n",
       "0     K Nearest Neighbor               KNeighborsRegressor(n_neighbors=200)   \n",
       "0        LinearRegressor                                 LinearRegression()   \n",
       "\n",
       "   r2_train       r2_test  rms_train      rms_test  mae_train      mae_test  \\\n",
       "0  0.989304  7.278669e-01   0.367223  1.830723e+00   0.210193  1.147241e+00   \n",
       "0  0.565777  5.424157e-01   2.440830  2.489726e+00   1.773635  1.842117e+00   \n",
       "0  0.834108 -4.291913e+23   1.456876  1.740251e+12   1.002514  1.105714e+11   \n",
       "\n",
       "   mape_train     mape_test  cross_val_score  \n",
       "0    2.480787  1.448881e+01    -6.836143e-01  \n",
       "0   18.680565  1.969347e+01    -3.961526e+00  \n",
       "0   11.735467  8.383707e+11    -1.910328e+23  "
      ],
      "text/html": [
       "<div>\n",
       "<style scoped>\n",
       "    .dataframe tbody tr th:only-of-type {\n",
       "        vertical-align: middle;\n",
       "    }\n",
       "\n",
       "    .dataframe tbody tr th {\n",
       "        vertical-align: top;\n",
       "    }\n",
       "\n",
       "    .dataframe thead th {\n",
       "        text-align: right;\n",
       "    }\n",
       "</style>\n",
       "<table border=\"1\" class=\"dataframe\">\n",
       "  <thead>\n",
       "    <tr style=\"text-align: right;\">\n",
       "      <th></th>\n",
       "      <th>Model_desc</th>\n",
       "      <th>Model_param</th>\n",
       "      <th>r2_train</th>\n",
       "      <th>r2_test</th>\n",
       "      <th>rms_train</th>\n",
       "      <th>rms_test</th>\n",
       "      <th>mae_train</th>\n",
       "      <th>mae_test</th>\n",
       "      <th>mape_train</th>\n",
       "      <th>mape_test</th>\n",
       "      <th>cross_val_score</th>\n",
       "    </tr>\n",
       "  </thead>\n",
       "  <tbody>\n",
       "    <tr>\n",
       "      <th>0</th>\n",
       "      <td>RandomForestRegressor</td>\n",
       "      <td>(DecisionTreeRegressor(max_features='auto', ra...</td>\n",
       "      <td>0.989304</td>\n",
       "      <td>7.278669e-01</td>\n",
       "      <td>0.367223</td>\n",
       "      <td>1.830723e+00</td>\n",
       "      <td>0.210193</td>\n",
       "      <td>1.147241e+00</td>\n",
       "      <td>2.480787</td>\n",
       "      <td>1.448881e+01</td>\n",
       "      <td>-6.836143e-01</td>\n",
       "    </tr>\n",
       "    <tr>\n",
       "      <th>0</th>\n",
       "      <td>K Nearest Neighbor</td>\n",
       "      <td>KNeighborsRegressor(n_neighbors=200)</td>\n",
       "      <td>0.565777</td>\n",
       "      <td>5.424157e-01</td>\n",
       "      <td>2.440830</td>\n",
       "      <td>2.489726e+00</td>\n",
       "      <td>1.773635</td>\n",
       "      <td>1.842117e+00</td>\n",
       "      <td>18.680565</td>\n",
       "      <td>1.969347e+01</td>\n",
       "      <td>-3.961526e+00</td>\n",
       "    </tr>\n",
       "    <tr>\n",
       "      <th>0</th>\n",
       "      <td>LinearRegressor</td>\n",
       "      <td>LinearRegression()</td>\n",
       "      <td>0.834108</td>\n",
       "      <td>-4.291913e+23</td>\n",
       "      <td>1.456876</td>\n",
       "      <td>1.740251e+12</td>\n",
       "      <td>1.002514</td>\n",
       "      <td>1.105714e+11</td>\n",
       "      <td>11.735467</td>\n",
       "      <td>8.383707e+11</td>\n",
       "      <td>-1.910328e+23</td>\n",
       "    </tr>\n",
       "  </tbody>\n",
       "</table>\n",
       "</div>"
      ]
     },
     "metadata": {},
     "execution_count": 12
    }
   ],
   "metadata": {}
  },
  {
   "cell_type": "code",
   "execution_count": 13,
   "source": [
    "# test = df\r\n",
    "mtest = pd.read_csv('mtest.csv')\r\n",
    "# print(mtest)\r\n",
    "print(linear_regressor.predict(mtest))"
   ],
   "outputs": [
    {
     "output_type": "stream",
     "name": "stdout",
     "text": [
      "[[ 9.66902161 26.33401489  3.67459106]]\n"
     ]
    }
   ],
   "metadata": {}
  },
  {
   "cell_type": "code",
   "execution_count": null,
   "source": [
    "from sklearn.metrics import accuracy_score\r\n"
   ],
   "outputs": [],
   "metadata": {}
  }
 ]
}