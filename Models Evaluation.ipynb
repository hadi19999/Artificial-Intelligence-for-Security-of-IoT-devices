{
 "metadata": {
  "language_info": {
   "codemirror_mode": {
    "name": "ipython",
    "version": 3
   },
   "file_extension": ".py",
   "mimetype": "text/x-python",
   "name": "python",
   "nbconvert_exporter": "python",
   "pygments_lexer": "ipython3",
   "version": "3.9.6"
  },
  "orig_nbformat": 2,
  "kernelspec": {
   "name": "python3",
   "display_name": "Python 3.9.6 64-bit"
  },
  "interpreter": {
   "hash": "03a32bfec7fb0cdc979cb3328c5b8ee37dafc31b6d48bd7f277149aa7e8800d8"
  }
 },
 "nbformat": 4,
 "nbformat_minor": 2,
 "cells": [
  {
   "cell_type": "code",
   "execution_count": 9,
   "source": [
    "# Libraries import\r\n",
    "import pandas as pd\r\n",
    "import seaborn as sns"
   ],
   "outputs": [],
   "metadata": {}
  },
  {
   "cell_type": "code",
   "execution_count": 10,
   "source": [
    "# Importing files\r\n",
    "# df = pd.read_csv('rssprints_train.csv')\r\n",
    "# dfy = pd.read_csv('coordinates_train.csv')\r\n",
    "\r\n",
    "# df_test = pd.read_csv('rssprints_test.csv')\r\n",
    "# dfy_test = pd.read_csv('coordinates_test.csv')\r\n",
    "\r\n",
    "data_set_train = pd.read_csv('Ujiindoor dataset/trainingData.csv')\r\n",
    "df = data_set_train.drop(['LONGITUDE','LATITUDE','FLOOR','BUILDINGID','SPACEID','RELATIVEPOSITION','USERID','PHONEID','TIMESTAMP'],axis = 1)\r\n",
    "dfy = data_set_train[['LONGITUDE','LATITUDE','FLOOR']]\r\n",
    "\r\n",
    "data_set_test = pd.read_csv('Ujiindoor dataset/validationData.csv')\r\n",
    "df_test = data_set_test.drop(['LONGITUDE','LATITUDE','FLOOR','BUILDINGID','SPACEID','RELATIVEPOSITION','USERID','PHONEID','TIMESTAMP'],axis = 1)\r\n",
    "dfy_test = data_set_test[['LONGITUDE','LATITUDE','FLOOR']]"
   ],
   "outputs": [],
   "metadata": {}
  },
  {
   "cell_type": "code",
   "execution_count": 11,
   "source": [
    "# Checking data\r\n",
    "df.head()"
   ],
   "outputs": [
    {
     "output_type": "execute_result",
     "data": {
      "text/html": [
       "<div>\n",
       "<style scoped>\n",
       "    .dataframe tbody tr th:only-of-type {\n",
       "        vertical-align: middle;\n",
       "    }\n",
       "\n",
       "    .dataframe tbody tr th {\n",
       "        vertical-align: top;\n",
       "    }\n",
       "\n",
       "    .dataframe thead th {\n",
       "        text-align: right;\n",
       "    }\n",
       "</style>\n",
       "<table border=\"1\" class=\"dataframe\">\n",
       "  <thead>\n",
       "    <tr style=\"text-align: right;\">\n",
       "      <th></th>\n",
       "      <th>WAP001</th>\n",
       "      <th>WAP002</th>\n",
       "      <th>WAP003</th>\n",
       "      <th>WAP004</th>\n",
       "      <th>WAP005</th>\n",
       "      <th>WAP006</th>\n",
       "      <th>WAP007</th>\n",
       "      <th>WAP008</th>\n",
       "      <th>WAP009</th>\n",
       "      <th>WAP010</th>\n",
       "      <th>...</th>\n",
       "      <th>WAP511</th>\n",
       "      <th>WAP512</th>\n",
       "      <th>WAP513</th>\n",
       "      <th>WAP514</th>\n",
       "      <th>WAP515</th>\n",
       "      <th>WAP516</th>\n",
       "      <th>WAP517</th>\n",
       "      <th>WAP518</th>\n",
       "      <th>WAP519</th>\n",
       "      <th>WAP520</th>\n",
       "    </tr>\n",
       "  </thead>\n",
       "  <tbody>\n",
       "    <tr>\n",
       "      <th>0</th>\n",
       "      <td>100</td>\n",
       "      <td>100</td>\n",
       "      <td>100</td>\n",
       "      <td>100</td>\n",
       "      <td>100</td>\n",
       "      <td>100</td>\n",
       "      <td>100</td>\n",
       "      <td>100</td>\n",
       "      <td>100</td>\n",
       "      <td>100</td>\n",
       "      <td>...</td>\n",
       "      <td>100</td>\n",
       "      <td>100</td>\n",
       "      <td>100</td>\n",
       "      <td>100</td>\n",
       "      <td>100</td>\n",
       "      <td>100</td>\n",
       "      <td>100</td>\n",
       "      <td>100</td>\n",
       "      <td>100</td>\n",
       "      <td>100</td>\n",
       "    </tr>\n",
       "    <tr>\n",
       "      <th>1</th>\n",
       "      <td>100</td>\n",
       "      <td>100</td>\n",
       "      <td>100</td>\n",
       "      <td>100</td>\n",
       "      <td>100</td>\n",
       "      <td>100</td>\n",
       "      <td>100</td>\n",
       "      <td>100</td>\n",
       "      <td>100</td>\n",
       "      <td>100</td>\n",
       "      <td>...</td>\n",
       "      <td>100</td>\n",
       "      <td>100</td>\n",
       "      <td>100</td>\n",
       "      <td>100</td>\n",
       "      <td>100</td>\n",
       "      <td>100</td>\n",
       "      <td>100</td>\n",
       "      <td>100</td>\n",
       "      <td>100</td>\n",
       "      <td>100</td>\n",
       "    </tr>\n",
       "    <tr>\n",
       "      <th>2</th>\n",
       "      <td>100</td>\n",
       "      <td>100</td>\n",
       "      <td>100</td>\n",
       "      <td>100</td>\n",
       "      <td>100</td>\n",
       "      <td>100</td>\n",
       "      <td>100</td>\n",
       "      <td>-97</td>\n",
       "      <td>100</td>\n",
       "      <td>100</td>\n",
       "      <td>...</td>\n",
       "      <td>100</td>\n",
       "      <td>100</td>\n",
       "      <td>100</td>\n",
       "      <td>100</td>\n",
       "      <td>100</td>\n",
       "      <td>100</td>\n",
       "      <td>100</td>\n",
       "      <td>100</td>\n",
       "      <td>100</td>\n",
       "      <td>100</td>\n",
       "    </tr>\n",
       "    <tr>\n",
       "      <th>3</th>\n",
       "      <td>100</td>\n",
       "      <td>100</td>\n",
       "      <td>100</td>\n",
       "      <td>100</td>\n",
       "      <td>100</td>\n",
       "      <td>100</td>\n",
       "      <td>100</td>\n",
       "      <td>100</td>\n",
       "      <td>100</td>\n",
       "      <td>100</td>\n",
       "      <td>...</td>\n",
       "      <td>100</td>\n",
       "      <td>100</td>\n",
       "      <td>100</td>\n",
       "      <td>100</td>\n",
       "      <td>100</td>\n",
       "      <td>100</td>\n",
       "      <td>100</td>\n",
       "      <td>100</td>\n",
       "      <td>100</td>\n",
       "      <td>100</td>\n",
       "    </tr>\n",
       "    <tr>\n",
       "      <th>4</th>\n",
       "      <td>100</td>\n",
       "      <td>100</td>\n",
       "      <td>100</td>\n",
       "      <td>100</td>\n",
       "      <td>100</td>\n",
       "      <td>100</td>\n",
       "      <td>100</td>\n",
       "      <td>100</td>\n",
       "      <td>100</td>\n",
       "      <td>100</td>\n",
       "      <td>...</td>\n",
       "      <td>100</td>\n",
       "      <td>100</td>\n",
       "      <td>100</td>\n",
       "      <td>100</td>\n",
       "      <td>100</td>\n",
       "      <td>100</td>\n",
       "      <td>100</td>\n",
       "      <td>100</td>\n",
       "      <td>100</td>\n",
       "      <td>100</td>\n",
       "    </tr>\n",
       "  </tbody>\n",
       "</table>\n",
       "<p>5 rows × 520 columns</p>\n",
       "</div>"
      ],
      "text/plain": [
       "   WAP001  WAP002  WAP003  WAP004  WAP005  WAP006  WAP007  WAP008  WAP009  \\\n",
       "0     100     100     100     100     100     100     100     100     100   \n",
       "1     100     100     100     100     100     100     100     100     100   \n",
       "2     100     100     100     100     100     100     100     -97     100   \n",
       "3     100     100     100     100     100     100     100     100     100   \n",
       "4     100     100     100     100     100     100     100     100     100   \n",
       "\n",
       "   WAP010  ...  WAP511  WAP512  WAP513  WAP514  WAP515  WAP516  WAP517  \\\n",
       "0     100  ...     100     100     100     100     100     100     100   \n",
       "1     100  ...     100     100     100     100     100     100     100   \n",
       "2     100  ...     100     100     100     100     100     100     100   \n",
       "3     100  ...     100     100     100     100     100     100     100   \n",
       "4     100  ...     100     100     100     100     100     100     100   \n",
       "\n",
       "   WAP518  WAP519  WAP520  \n",
       "0     100     100     100  \n",
       "1     100     100     100  \n",
       "2     100     100     100  \n",
       "3     100     100     100  \n",
       "4     100     100     100  \n",
       "\n",
       "[5 rows x 520 columns]"
      ]
     },
     "metadata": {},
     "execution_count": 11
    }
   ],
   "metadata": {}
  },
  {
   "cell_type": "code",
   "execution_count": null,
   "source": [],
   "outputs": [],
   "metadata": {}
  },
  {
   "cell_type": "code",
   "execution_count": 12,
   "source": [
    "# Plotting\r\n",
    "X_train = df\r\n",
    "y_train = dfy\r\n",
    "X_test = df_test\r\n",
    "y_test = dfy_test"
   ],
   "outputs": [],
   "metadata": {}
  },
  {
   "cell_type": "code",
   "execution_count": 17,
   "source": [
    "#Importing Libraries\r\n",
    "from sklearn.metrics import r2_score, mean_squared_error,mean_absolute_error\r\n",
    "from sklearn.model_selection import cross_val_score\r\n",
    "import numpy as np\r\n",
    "\r\n",
    "\r\n",
    "rmse_dict = {}    \r\n",
    "def rmse(correct,estimated):\r\n",
    "    rmse_val = np.sqrt(mean_squared_error(correct,estimated)) \r\n",
    "    return rmse_val\r\n",
    "\r\n",
    "# Generating the Table Frame for metrics\r\n",
    "evluation_table = pd.DataFrame({  'Model_desc':[],\r\n",
    "                        'Model_param':[],\r\n",
    "                        'r2_train': [],\r\n",
    "                        'r2_test': [],\r\n",
    "                        'rms_train':[], \r\n",
    "                        'rms_test': [],\r\n",
    "                        'mae_train': [],\r\n",
    "                        'mae_test': [],\r\n",
    "                        'mape_train':[],\r\n",
    "                        'mape_test':[],\r\n",
    "                        'cross_val_score' : []})\r\n",
    "\r\n",
    "\r\n",
    "# Evaluating the model\r\n",
    "def evaluate_model(model, model_desc,model_param, X_train, y_train, X_test, y_test):\r\n",
    "    global evluation_table\r\n",
    "    \r\n",
    "    y_train_pred = model.predict(X_train)\r\n",
    "    y_test_pred = model.predict(X_test)\r\n",
    "        \r\n",
    "    print(y_train.shape,y_train_pred.shape)\r\n",
    "    \r\n",
    "    try:\r\n",
    "        r2_train = r2_score(y_train, y_train_pred)\r\n",
    "        r2_test = r2_score(y_test, y_test_pred)\r\n",
    "    except:\r\n",
    "        r2_train = \"not calculated\"\r\n",
    "        r2_test = \"not calculated\"\r\n",
    "    try:\r\n",
    "        rms_train = rmse(y_train,y_train_pred)\r\n",
    "        rms_test = rmse(y_test, y_test_pred)\r\n",
    "    except:\r\n",
    "        rms_train = \"not calculated\"\r\n",
    "        rms_test = \"not calculated\"\r\n",
    "    try:\r\n",
    "        mae_train = mean_absolute_error(y_train, y_train_pred)\r\n",
    "        mae_test = mean_absolute_error(y_test, y_test_pred)\r\n",
    "    except:\r\n",
    "        mae_train = \"not calculated\"\r\n",
    "        mae_test = \"not calculated\"\r\n",
    "    # try:\r\n",
    "    #     mape_train = np.mean(np.abs((y_train - y_train_pred) / y_train)) * 100\r\n",
    "    #     mape_test = np.mean(np.abs((y_test - y_test_pred) / y_test)) * 100\r\n",
    "    # except:\r\n",
    "    #     mape_train = \"not calculated\"\r\n",
    "    #     mape_test = \"not calculated\"   \r\n",
    "    try:\r\n",
    "        cv_score = cross_val_score(model, X_train, y_train, cv=10)\r\n",
    "        cv_score = cv_score.mean()\r\n",
    "    except:\r\n",
    "        cv_score = \"Not calulated\"\r\n",
    "    model_param = pd.DataFrame({'Model_desc':[model_desc],\r\n",
    "                            'Model_param':[model_param],\r\n",
    "                            'r2_train': [r2_train],\r\n",
    "                            'r2_test': [r2_test],\r\n",
    "                            'rms_train':[rms_train], \r\n",
    "                            'rms_test': [rms_test],\r\n",
    "                            'mae_train': [mae_train],\r\n",
    "                            'mae_test': [mae_test],\r\n",
    "                            # 'mape_train':[mape_train],\r\n",
    "                            # 'mape_test':[mape_test],\r\n",
    "                            'cross_val_score' : [cv_score]})\r\n",
    "\r\n",
    "    evluation_table = evluation_table.append([model_param])\r\n",
    " \r\n",
    "    return evluation_table"
   ],
   "outputs": [],
   "metadata": {}
  },
  {
   "cell_type": "markdown",
   "source": [
    "------------------------------------RANDOM FOREST----------------------------------------\r\n"
   ],
   "metadata": {}
  },
  {
   "cell_type": "code",
   "execution_count": 14,
   "source": [
    "from sklearn.ensemble import RandomForestRegressor\r\n",
    "regressor = RandomForestRegressor() \r\n",
    "regressor.fit(X_train, y_train)\r\n",
    "y_train.shape"
   ],
   "outputs": [
    {
     "output_type": "execute_result",
     "data": {
      "text/plain": [
       "(19937, 3)"
      ]
     },
     "metadata": {},
     "execution_count": 14
    }
   ],
   "metadata": {}
  },
  {
   "cell_type": "code",
   "execution_count": 15,
   "source": [
    "# Save model\r\n",
    "import pickle\r\n",
    "filename = 'rf_model.sav'\r\n",
    "pickle.dump(regressor, open(filename, 'wb'))"
   ],
   "outputs": [],
   "metadata": {}
  },
  {
   "cell_type": "code",
   "execution_count": 18,
   "source": [
    "evaluate_model(regressor, \"RandomForestRegressor\",regressor,X_train,y_train.values, X_test , y_test.values)"
   ],
   "outputs": [
    {
     "output_type": "stream",
     "name": "stdout",
     "text": [
      "(19937, 3) (19937, 3)\n"
     ]
    },
    {
     "output_type": "execute_result",
     "data": {
      "text/html": [
       "<div>\n",
       "<style scoped>\n",
       "    .dataframe tbody tr th:only-of-type {\n",
       "        vertical-align: middle;\n",
       "    }\n",
       "\n",
       "    .dataframe tbody tr th {\n",
       "        vertical-align: top;\n",
       "    }\n",
       "\n",
       "    .dataframe thead th {\n",
       "        text-align: right;\n",
       "    }\n",
       "</style>\n",
       "<table border=\"1\" class=\"dataframe\">\n",
       "  <thead>\n",
       "    <tr style=\"text-align: right;\">\n",
       "      <th></th>\n",
       "      <th>Model_desc</th>\n",
       "      <th>Model_param</th>\n",
       "      <th>r2_train</th>\n",
       "      <th>r2_test</th>\n",
       "      <th>rms_train</th>\n",
       "      <th>rms_test</th>\n",
       "      <th>mae_train</th>\n",
       "      <th>mae_test</th>\n",
       "      <th>mape_train</th>\n",
       "      <th>mape_test</th>\n",
       "      <th>cross_val_score</th>\n",
       "    </tr>\n",
       "  </thead>\n",
       "  <tbody>\n",
       "    <tr>\n",
       "      <th>0</th>\n",
       "      <td>RandomForestRegressor</td>\n",
       "      <td>(DecisionTreeRegressor(max_features='auto', ra...</td>\n",
       "      <td>0.994757</td>\n",
       "      <td>0.897734</td>\n",
       "      <td>4.441566</td>\n",
       "      <td>11.584644</td>\n",
       "      <td>0.982644</td>\n",
       "      <td>6.117016</td>\n",
       "      <td>NaN</td>\n",
       "      <td>NaN</td>\n",
       "      <td>0.879798</td>\n",
       "    </tr>\n",
       "  </tbody>\n",
       "</table>\n",
       "</div>"
      ],
      "text/plain": [
       "              Model_desc                                        Model_param  \\\n",
       "0  RandomForestRegressor  (DecisionTreeRegressor(max_features='auto', ra...   \n",
       "\n",
       "   r2_train   r2_test  rms_train   rms_test  mae_train  mae_test  mape_train  \\\n",
       "0  0.994757  0.897734   4.441566  11.584644   0.982644  6.117016         NaN   \n",
       "\n",
       "   mape_test  cross_val_score  \n",
       "0        NaN         0.879798  "
      ]
     },
     "metadata": {},
     "execution_count": 18
    }
   ],
   "metadata": {}
  },
  {
   "cell_type": "code",
   "execution_count": 19,
   "source": [
    "# test = df\r\n",
    "mtest = pd.read_csv('mtest.csv')\r\n",
    "# print(mtest)\r\n",
    "print(regressor.predict(mtest))\r\n",
    "\r\n",
    "# removetest = dfy.head()\r\n",
    "# print(removetest)\r\n",
    "# print(101100389 - 101100102)"
   ],
   "outputs": [
    {
     "output_type": "stream",
     "name": "stdout",
     "text": [
      "[[-7.43968474e+03  4.86485844e+06  1.47589184e+00]]\n"
     ]
    }
   ],
   "metadata": {}
  },
  {
   "cell_type": "markdown",
   "source": [
    "----------------------------KNN-----------------------------------"
   ],
   "metadata": {}
  },
  {
   "cell_type": "code",
   "execution_count": 9,
   "source": [
    "from sklearn.neighbors import KNeighborsRegressor\r\n",
    "\r\n",
    "knn = KNeighborsRegressor(n_neighbors=200)\r\n",
    "knn.fit(X_train, y_train)"
   ],
   "outputs": [
    {
     "output_type": "execute_result",
     "data": {
      "text/plain": [
       "KNeighborsRegressor(n_neighbors=200)"
      ]
     },
     "metadata": {},
     "execution_count": 9
    }
   ],
   "metadata": {}
  },
  {
   "cell_type": "code",
   "execution_count": 10,
   "source": [
    "evaluate_model(knn, \"K Nearest Neighbor\",knn,X_train,y_train.values, X_test , y_test.values)"
   ],
   "outputs": [
    {
     "output_type": "stream",
     "name": "stdout",
     "text": [
      "(575, 3) (575, 3)\n"
     ]
    },
    {
     "output_type": "execute_result",
     "data": {
      "text/html": [
       "<div>\n",
       "<style scoped>\n",
       "    .dataframe tbody tr th:only-of-type {\n",
       "        vertical-align: middle;\n",
       "    }\n",
       "\n",
       "    .dataframe tbody tr th {\n",
       "        vertical-align: top;\n",
       "    }\n",
       "\n",
       "    .dataframe thead th {\n",
       "        text-align: right;\n",
       "    }\n",
       "</style>\n",
       "<table border=\"1\" class=\"dataframe\">\n",
       "  <thead>\n",
       "    <tr style=\"text-align: right;\">\n",
       "      <th></th>\n",
       "      <th>Model_desc</th>\n",
       "      <th>Model_param</th>\n",
       "      <th>r2_train</th>\n",
       "      <th>r2_test</th>\n",
       "      <th>rms_train</th>\n",
       "      <th>rms_test</th>\n",
       "      <th>mae_train</th>\n",
       "      <th>mae_test</th>\n",
       "      <th>mape_train</th>\n",
       "      <th>mape_test</th>\n",
       "      <th>cross_val_score</th>\n",
       "    </tr>\n",
       "  </thead>\n",
       "  <tbody>\n",
       "    <tr>\n",
       "      <th>0</th>\n",
       "      <td>RandomForestRegressor</td>\n",
       "      <td>(DecisionTreeRegressor(max_features='auto', ra...</td>\n",
       "      <td>0.989304</td>\n",
       "      <td>0.727867</td>\n",
       "      <td>0.367223</td>\n",
       "      <td>1.830723</td>\n",
       "      <td>0.210193</td>\n",
       "      <td>1.147241</td>\n",
       "      <td>2.480787</td>\n",
       "      <td>14.488813</td>\n",
       "      <td>-0.683614</td>\n",
       "    </tr>\n",
       "    <tr>\n",
       "      <th>0</th>\n",
       "      <td>K Nearest Neighbor</td>\n",
       "      <td>KNeighborsRegressor(n_neighbors=200)</td>\n",
       "      <td>0.565777</td>\n",
       "      <td>0.542416</td>\n",
       "      <td>2.440830</td>\n",
       "      <td>2.489726</td>\n",
       "      <td>1.773635</td>\n",
       "      <td>1.842117</td>\n",
       "      <td>18.680565</td>\n",
       "      <td>19.693474</td>\n",
       "      <td>-3.961526</td>\n",
       "    </tr>\n",
       "  </tbody>\n",
       "</table>\n",
       "</div>"
      ],
      "text/plain": [
       "              Model_desc                                        Model_param  \\\n",
       "0  RandomForestRegressor  (DecisionTreeRegressor(max_features='auto', ra...   \n",
       "0     K Nearest Neighbor               KNeighborsRegressor(n_neighbors=200)   \n",
       "\n",
       "   r2_train   r2_test  rms_train  rms_test  mae_train  mae_test  mape_train  \\\n",
       "0  0.989304  0.727867   0.367223  1.830723   0.210193  1.147241    2.480787   \n",
       "0  0.565777  0.542416   2.440830  2.489726   1.773635  1.842117   18.680565   \n",
       "\n",
       "   mape_test  cross_val_score  \n",
       "0  14.488813        -0.683614  \n",
       "0  19.693474        -3.961526  "
      ]
     },
     "metadata": {},
     "execution_count": 10
    }
   ],
   "metadata": {}
  },
  {
   "cell_type": "markdown",
   "source": [
    "----------------------- LINEAR REGRESSION------------------"
   ],
   "metadata": {}
  },
  {
   "cell_type": "code",
   "execution_count": 11,
   "source": [
    "from sklearn.linear_model import LinearRegression\r\n",
    "\r\n",
    "linear_regressor = LinearRegression().fit(X_train, y_train)\r\n",
    "\r\n",
    "linear_regressor.score(X_train, y_train)"
   ],
   "outputs": [
    {
     "output_type": "execute_result",
     "data": {
      "text/plain": [
       "0.8341078220197908"
      ]
     },
     "metadata": {},
     "execution_count": 11
    }
   ],
   "metadata": {}
  },
  {
   "cell_type": "code",
   "execution_count": 12,
   "source": [
    "evaluate_model(linear_regressor, \"LinearRegressor\",linear_regressor,X_train,y_train.values, X_test , y_test.values)"
   ],
   "outputs": [
    {
     "output_type": "stream",
     "name": "stdout",
     "text": [
      "(575, 3) (575, 3)\n"
     ]
    },
    {
     "output_type": "execute_result",
     "data": {
      "text/html": [
       "<div>\n",
       "<style scoped>\n",
       "    .dataframe tbody tr th:only-of-type {\n",
       "        vertical-align: middle;\n",
       "    }\n",
       "\n",
       "    .dataframe tbody tr th {\n",
       "        vertical-align: top;\n",
       "    }\n",
       "\n",
       "    .dataframe thead th {\n",
       "        text-align: right;\n",
       "    }\n",
       "</style>\n",
       "<table border=\"1\" class=\"dataframe\">\n",
       "  <thead>\n",
       "    <tr style=\"text-align: right;\">\n",
       "      <th></th>\n",
       "      <th>Model_desc</th>\n",
       "      <th>Model_param</th>\n",
       "      <th>r2_train</th>\n",
       "      <th>r2_test</th>\n",
       "      <th>rms_train</th>\n",
       "      <th>rms_test</th>\n",
       "      <th>mae_train</th>\n",
       "      <th>mae_test</th>\n",
       "      <th>mape_train</th>\n",
       "      <th>mape_test</th>\n",
       "      <th>cross_val_score</th>\n",
       "    </tr>\n",
       "  </thead>\n",
       "  <tbody>\n",
       "    <tr>\n",
       "      <th>0</th>\n",
       "      <td>RandomForestRegressor</td>\n",
       "      <td>(DecisionTreeRegressor(max_features='auto', ra...</td>\n",
       "      <td>0.989304</td>\n",
       "      <td>7.278669e-01</td>\n",
       "      <td>0.367223</td>\n",
       "      <td>1.830723e+00</td>\n",
       "      <td>0.210193</td>\n",
       "      <td>1.147241e+00</td>\n",
       "      <td>2.480787</td>\n",
       "      <td>1.448881e+01</td>\n",
       "      <td>-6.836143e-01</td>\n",
       "    </tr>\n",
       "    <tr>\n",
       "      <th>0</th>\n",
       "      <td>K Nearest Neighbor</td>\n",
       "      <td>KNeighborsRegressor(n_neighbors=200)</td>\n",
       "      <td>0.565777</td>\n",
       "      <td>5.424157e-01</td>\n",
       "      <td>2.440830</td>\n",
       "      <td>2.489726e+00</td>\n",
       "      <td>1.773635</td>\n",
       "      <td>1.842117e+00</td>\n",
       "      <td>18.680565</td>\n",
       "      <td>1.969347e+01</td>\n",
       "      <td>-3.961526e+00</td>\n",
       "    </tr>\n",
       "    <tr>\n",
       "      <th>0</th>\n",
       "      <td>LinearRegressor</td>\n",
       "      <td>LinearRegression()</td>\n",
       "      <td>0.834108</td>\n",
       "      <td>-4.291913e+23</td>\n",
       "      <td>1.456876</td>\n",
       "      <td>1.740251e+12</td>\n",
       "      <td>1.002514</td>\n",
       "      <td>1.105714e+11</td>\n",
       "      <td>11.735467</td>\n",
       "      <td>8.383707e+11</td>\n",
       "      <td>-1.910328e+23</td>\n",
       "    </tr>\n",
       "  </tbody>\n",
       "</table>\n",
       "</div>"
      ],
      "text/plain": [
       "              Model_desc                                        Model_param  \\\n",
       "0  RandomForestRegressor  (DecisionTreeRegressor(max_features='auto', ra...   \n",
       "0     K Nearest Neighbor               KNeighborsRegressor(n_neighbors=200)   \n",
       "0        LinearRegressor                                 LinearRegression()   \n",
       "\n",
       "   r2_train       r2_test  rms_train      rms_test  mae_train      mae_test  \\\n",
       "0  0.989304  7.278669e-01   0.367223  1.830723e+00   0.210193  1.147241e+00   \n",
       "0  0.565777  5.424157e-01   2.440830  2.489726e+00   1.773635  1.842117e+00   \n",
       "0  0.834108 -4.291913e+23   1.456876  1.740251e+12   1.002514  1.105714e+11   \n",
       "\n",
       "   mape_train     mape_test  cross_val_score  \n",
       "0    2.480787  1.448881e+01    -6.836143e-01  \n",
       "0   18.680565  1.969347e+01    -3.961526e+00  \n",
       "0   11.735467  8.383707e+11    -1.910328e+23  "
      ]
     },
     "metadata": {},
     "execution_count": 12
    }
   ],
   "metadata": {}
  },
  {
   "cell_type": "code",
   "execution_count": 13,
   "source": [
    "# test = df\r\n",
    "mtest = pd.read_csv('mtest.csv')\r\n",
    "# print(mtest)\r\n",
    "print(linear_regressor.predict(mtest))"
   ],
   "outputs": [
    {
     "output_type": "stream",
     "name": "stdout",
     "text": [
      "[[ 9.66902161 26.33401489  3.67459106]]\n"
     ]
    }
   ],
   "metadata": {}
  },
  {
   "cell_type": "code",
   "execution_count": null,
   "source": [
    "# from sklearn.metrics import accuracy_score\r\n"
   ],
   "outputs": [],
   "metadata": {}
  }
 ]
}